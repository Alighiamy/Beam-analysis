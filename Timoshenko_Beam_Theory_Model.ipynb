{
  "cells": [
    {
      "cell_type": "markdown",
      "metadata": {
        "id": "view-in-github",
        "colab_type": "text"
      },
      "source": [
        "<a href=\"https://colab.research.google.com/github/Alighiamy/Beam-analysis/blob/main/Timoshenko_Beam_Theory_Model.ipynb\" target=\"_parent\"><img src=\"https://colab.research.google.com/assets/colab-badge.svg\" alt=\"Open In Colab\"/></a>"
      ]
    },
    {
      "cell_type": "markdown",
      "metadata": {
        "id": "8S7ZUqx-gR1W"
      },
      "source": [
        "_in this version we can define both uniform distributed load and concentraited load:_"
      ]
    },
    {
      "cell_type": "code",
      "execution_count": null,
      "metadata": {
        "id": "7ElfAl7jiHcb"
      },
      "outputs": [],
      "source": [
        "%reset-f\n",
        "import numpy as np\n",
        "import sympy as sym\n",
        "import pandas as pd\n",
        "import matplotlib.pyplot as plt"
      ]
    },
    {
      "cell_type": "code",
      "source": [
        "# Inputs:\n",
        "# ______________________________________________________________________________\n",
        "# Material Properties:\n",
        "Emudul = 2e5\n",
        "ν = 0.3\n",
        "Gmudul = Emudul/(2*(1 + ν))\n",
        "ρ = 7850 # Density\n",
        "# ..............................................................................\n",
        "# Geometic Properties:\n",
        "by = 0.4 # wigth of the Beam in y direction (mm)\n",
        "hz = 0.4 # Hight of Beam in z direction (mm)\n",
        "LB = 100 # Length of the Beam in x direction (mm) \n",
        "\n",
        "Asurf= by*hz # (mm^2)\n",
        "Inersia = by*hz**3/12 # (mm^4)\n",
        "# ..............................................................................\n",
        "ElemN = 2 # Number of Beam Elements\n",
        "\n",
        "Le = LB/ElemN # Length of Each Element\n",
        "# ..............................................................................\n",
        "# Load: Kind of Load Distribution: [Con: Concentrated Load, Uni: Uniform distribution]\n",
        "q = -1 # Load Amplitude (N)\n",
        "Load_dist = 'Uni' # [Con : Uni]\n",
        "LoadDistance = 1*LB/2\n",
        "# ------------------------------------------------------------------------------\n",
        "# Boundary Condition: [c: Clamped, s: Simply, f: Free]\n",
        "BCL = 's' # [s : c : f] Left\n",
        "BCR = 's' # [s : c : f] Right"
      ],
      "metadata": {
        "id": "KFzfkKsfXxWu"
      },
      "execution_count": null,
      "outputs": []
    },
    {
      "cell_type": "code",
      "execution_count": null,
      "metadata": {
        "id": "mu9Ek5krzc0o"
      },
      "outputs": [],
      "source": [
        "# Timoshenko Shear correction Fator and DOFs:\n",
        "# ______________________________________________________________________________\n",
        "KKK = 5/6 # [0.66, 2/3, 5/6, 0.86]\n",
        "\n",
        "#-------------------------------------------------------------------------------\n",
        "# Degree of Freedom\n",
        "DPN = 4 # Degree of Freedom per Node (u, v=dw/dx , w)\n",
        "NPE = 2 # Node per Elements\n",
        "\n",
        "DPE = DPN*NPE # Degree of Freedom per element\n",
        "NodeN = ElemN+1 # Number of All Nodes\n",
        "DOFs = NodeN*DPN"
      ]
    },
    {
      "cell_type": "markdown",
      "metadata": {
        "id": "MVKhOppSibKB"
      },
      "source": [
        "_Material Properties:_\n",
        "\n",
        " $\\begin{pmatrix}\n",
        " F_{x}\\\\\n",
        " M_{y}\n",
        "\\end{pmatrix}=\n",
        "  \\begin{pmatrix}\n",
        "  EA & 0 \\\\\n",
        "             0  & EI\n",
        "\\end{pmatrix}. \n",
        "  \\begin{pmatrix}\n",
        "  \\epsilon^{0}_{xx}\\\\\n",
        "  \\epsilon^{1}_{xx}\n",
        "\\end{pmatrix}$\n",
        "\n",
        "$Qs =GA= K \\times A_{s}$"
      ]
    },
    {
      "cell_type": "code",
      "execution_count": null,
      "metadata": {
        "colab": {
          "base_uri": "https://localhost:8080/"
        },
        "id": "r8OcQv34iggR",
        "outputId": "93ce35df-8df8-4bb9-ca7b-407afd553df6"
      },
      "outputs": [
        {
          "output_type": "stream",
          "name": "stdout",
          "text": [
            "[[32000.             0.        ]\n",
            " [    0.           426.66666667]]\n",
            "10256.41025641026\n"
          ]
        }
      ],
      "source": [
        "# Sttifnees Material property Matirx\n",
        "#===============================================================================\n",
        "φ=np.zeros((2,2),dtype=float)\n",
        "#...............................................................................\n",
        "# Isotropic:\n",
        "\n",
        "φ[0][0] = Emudul*Asurf # (N)\n",
        "φ[1][1] = Emudul*Inersia # (N.mm)\n",
        "\n",
        "As = np.array(Gmudul*Asurf)\n",
        "\n",
        "#...............................................................................\n",
        "φs = KKK*As\n",
        "print(φ)\n",
        "print(φs)"
      ]
    },
    {
      "cell_type": "code",
      "execution_count": null,
      "metadata": {
        "id": "26lDDrJF2zhF"
      },
      "outputs": [],
      "source": [
        "# Shape Functions and their differntation\n",
        "x = sym.Symbol('x')\n",
        "N1 = 1 - x/Le\n",
        "N2 = x/Le\n",
        "dxN1 = sym.diff(N1, x, 1)\n",
        "dxN2 = sym.diff(N2, x, 1)\n",
        "\n",
        "H1 = (1/Le**3) * (Le**3 - 3*Le*x**2 + 2*x**3)\n",
        "dx1H1 = sym.diff(H1, x, 1)\n",
        "dx2H1 = sym.diff(H1, x, 2)\n",
        "\n",
        "H2 = (1/Le**2) * (Le**2*x - 2*Le*x**2 + x**3)\n",
        "dx1H2 = sym.diff(H2, x, 1)\n",
        "dx2H2 = sym.diff(H2, x, 2)\n",
        "\n",
        "H3 = (1/Le**3) * (3*Le*x**2 - 2*x**3)\n",
        "dx1H3 = sym.diff(H3, x, 1)\n",
        "dx2H3 = sym.diff(H3, x, 2)\n",
        "\n",
        "H4 = (1/Le**2) * (x**3 - Le*x**2)\n",
        "dx1H4 = sym.diff(H4, x, 1)\n",
        "dx2H4 = sym.diff(H4, x, 2)"
      ]
    },
    {
      "cell_type": "markdown",
      "metadata": {
        "id": "BmUwwI-W_cTy"
      },
      "source": [
        "###${ϵ_{b}}=B_{b}.𝚫$__:__$\n",
        "\\begin{pmatrix}\n",
        "\\epsilon^{0}_{xx}\\\\\n",
        "\\epsilon^{1}_{xx}\n",
        "\\end{pmatrix}=\n",
        "  \\begin{pmatrix}\n",
        "  \\frac{du}{dx}\\\\\n",
        "  \\frac{d ϕ}{dx}\n",
        "  \\end{pmatrix}$\n",
        "$\\begin{align}\n",
        "K_{b}=\\int_{0}^{L_{e}} B_{b}^{T}.Q_{b}.B_{b}\\mathrm{d}x \\\n",
        "\\end{align}$\n",
        "_______________________________________________________\n",
        "###${γ_{s}}=B_{s}.𝚫$\n",
        "\n",
        "$\\begin{align}\n",
        "K_{s}=\\int_{0}^{L_{e}} B_{s}^{T}.KA_{s}.B_{s}\\mathrm{d}x \\\n",
        "\\end{align}$\n",
        "_______________________________________________________\n",
        " ___Sttifness Matrix of Element:___\n",
        "$K_{e}=K_{b} + K_{s}$"
      ]
    },
    {
      "cell_type": "code",
      "execution_count": null,
      "metadata": {
        "id": "j5MZ0EOELR6-"
      },
      "outputs": [],
      "source": [
        "# Bending:......................................................................\n",
        "#                   u1       w1     θ1       ϕ1     u2     w2      θ2     ϕ2\n",
        "Bb = sym.Matrix([[dxN1,      0,      0,       0,  dxN2,     0,     0,      0],\n",
        "                 [   0,      0,      0,    dxN1,     0,     0,     0,   dxN2]])\n",
        "Bb_T = Bb. transpose()\n",
        "KbE = sym.integrate(Bb_T @ φ @ Bb, (x, 0, Le))\n",
        "# Shear:........................................................................\n",
        "#                 u1     w1     θ1    ϕ1     u2       w2     θ2     ϕ2\n",
        "Bs = sym.Matrix([[0,  dx1H1, dx1H2,   N1,     0,   dx1H3, dx1H4,    N2]])\n",
        "Bs_T = Bs. transpose()\n",
        "KsE = sym.integrate((Bs_T @ Bs)*φs, (x, 0, Le))\n",
        "\n",
        "# KE = KbE + KsE\n",
        "# KE"
      ]
    },
    {
      "cell_type": "code",
      "execution_count": null,
      "metadata": {
        "id": "nwrHjDVlVCD_"
      },
      "outputs": [],
      "source": [
        "# iterate through rows\n",
        "KE = sym.Matrix(np.zeros((DPE,DPE),dtype=float))\n",
        "for i in range(DPE):\n",
        "   # iterate through columns\n",
        "   for j in range(DPE):\n",
        "       KE[i,j] = KbE[i,j] + KsE[i,j]\n",
        "KE = sym.Matrix(KE)"
      ]
    },
    {
      "cell_type": "code",
      "source": [
        "KE"
      ],
      "metadata": {
        "colab": {
          "base_uri": "https://localhost:8080/",
          "height": 180
        },
        "id": "n26caZnUeb-c",
        "outputId": "e1cafc4c-dc34-41b6-eeba-69839c441702"
      },
      "execution_count": null,
      "outputs": [
        {
          "output_type": "execute_result",
          "data": {
            "text/plain": [
              "Matrix([\n",
              "[ 640.0,                 0,                 0,                 0, -640.0,                 0,                 0,                 0],\n",
              "[     0,  246.153846153845,  1025.64102564102, -5128.20512820513,      0, -246.153846153845,  1025.64102564102, -5128.20512820513],\n",
              "[     0,  1025.64102564102,  68376.0683760676,  42735.0427350425,      0, -1025.64102564103, -17094.0170940175, -42735.0427350427],\n",
              "[     0, -5128.20512820513,  42735.0427350425,  170948.704273504,      0,  5128.20512820513, -42735.0427350429,  85461.5521367522],\n",
              "[-640.0,                 0,                 0,                 0,  640.0,                 0,                 0,                 0],\n",
              "[     0, -246.153846153845, -1025.64102564103,  5128.20512820513,      0,  246.153846153845, -1025.64102564102,  5128.20512820513],\n",
              "[     0,  1025.64102564102, -17094.0170940175, -42735.0427350429,      0, -1025.64102564102,  68376.0683760685,  42735.0427350427],\n",
              "[     0, -5128.20512820513, -42735.0427350427,  85461.5521367522,      0,  5128.20512820513,  42735.0427350427,  170948.704273504]])"
            ],
            "text/latex": "$\\displaystyle \\left[\\begin{matrix}640.0 & 0 & 0 & 0 & -640.0 & 0 & 0 & 0\\\\0 & 246.153846153845 & 1025.64102564102 & -5128.20512820513 & 0 & -246.153846153845 & 1025.64102564102 & -5128.20512820513\\\\0 & 1025.64102564102 & 68376.0683760676 & 42735.0427350425 & 0 & -1025.64102564103 & -17094.0170940175 & -42735.0427350427\\\\0 & -5128.20512820513 & 42735.0427350425 & 170948.704273504 & 0 & 5128.20512820513 & -42735.0427350429 & 85461.5521367522\\\\-640.0 & 0 & 0 & 0 & 640.0 & 0 & 0 & 0\\\\0 & -246.153846153845 & -1025.64102564103 & 5128.20512820513 & 0 & 246.153846153845 & -1025.64102564102 & 5128.20512820513\\\\0 & 1025.64102564102 & -17094.0170940175 & -42735.0427350429 & 0 & -1025.64102564102 & 68376.0683760685 & 42735.0427350427\\\\0 & -5128.20512820513 & -42735.0427350427 & 85461.5521367522 & 0 & 5128.20512820513 & 42735.0427350427 & 170948.704273504\\end{matrix}\\right]$"
          },
          "metadata": {},
          "execution_count": 35
        }
      ]
    },
    {
      "cell_type": "markdown",
      "metadata": {
        "id": "oUn9_ezOs7Vs"
      },
      "source": [
        "__Force Vector of each Element:__\n",
        "_This is defined for uniform load ditribution_\n",
        "\n",
        "$\\begin{align}\n",
        "F_{e}=\\int_{0}^{L_{e}} N_{e}^{T}q(x)\\mathrm{d}x \\\n",
        "\\end{align}$"
      ]
    },
    {
      "cell_type": "code",
      "execution_count": null,
      "metadata": {
        "id": "gOeSaaltrpBA"
      },
      "outputs": [],
      "source": [
        "#                  u1 w1  θ1   ϕ1  u2 w2  θ2  ϕ2\n",
        "Ne = sym.Matrix([[ 0, H1, H2,  0,  0, H3, H4, 0]])\n",
        "Ne_T = Ne. transpose()\n",
        "if Load_dist == 'Uni':\n",
        "  FE = sym.integrate(Ne_T * q, (x, 0, Le))\n",
        "elif Load_dist == 'Con':\n",
        "  Force_E = sym.zeros(DPE,ElemN)\n",
        "  FE = Ne_T * q\n",
        "  FE = FE.subs(x,Le)\n",
        "  for i in range(ElemN):\n",
        "    if (0+i*Le) <= LoadDistance < (Le+i*Le):\n",
        "      ConLoadElem = ElemN\n",
        "      Force_E[:,i] = FE\n",
        "      FE = Force_E\n",
        "# FE"
      ]
    },
    {
      "cell_type": "code",
      "execution_count": null,
      "metadata": {
        "colab": {
          "base_uri": "https://localhost:8080/",
          "height": 112
        },
        "id": "o3SM0N1vL4ux",
        "outputId": "ba1128e9-e444-498c-871e-3871f71b8208"
      },
      "outputs": [
        {
          "output_type": "execute_result",
          "data": {
            "text/plain": [
              "   u1  w1  θ1  ϕ1  u2  w2  θ2  ϕ2\n",
              "1   1   2   3   4   5   6   7   8\n",
              "2   5   6   7   8   9  10  11  12"
            ],
            "text/html": [
              "\n",
              "  <div id=\"df-8caaf958-d93e-480e-b9b8-aff48dc72a49\">\n",
              "    <div class=\"colab-df-container\">\n",
              "      <div>\n",
              "<style scoped>\n",
              "    .dataframe tbody tr th:only-of-type {\n",
              "        vertical-align: middle;\n",
              "    }\n",
              "\n",
              "    .dataframe tbody tr th {\n",
              "        vertical-align: top;\n",
              "    }\n",
              "\n",
              "    .dataframe thead th {\n",
              "        text-align: right;\n",
              "    }\n",
              "</style>\n",
              "<table border=\"1\" class=\"dataframe\">\n",
              "  <thead>\n",
              "    <tr style=\"text-align: right;\">\n",
              "      <th></th>\n",
              "      <th>u1</th>\n",
              "      <th>w1</th>\n",
              "      <th>θ1</th>\n",
              "      <th>ϕ1</th>\n",
              "      <th>u2</th>\n",
              "      <th>w2</th>\n",
              "      <th>θ2</th>\n",
              "      <th>ϕ2</th>\n",
              "    </tr>\n",
              "  </thead>\n",
              "  <tbody>\n",
              "    <tr>\n",
              "      <th>1</th>\n",
              "      <td>1</td>\n",
              "      <td>2</td>\n",
              "      <td>3</td>\n",
              "      <td>4</td>\n",
              "      <td>5</td>\n",
              "      <td>6</td>\n",
              "      <td>7</td>\n",
              "      <td>8</td>\n",
              "    </tr>\n",
              "    <tr>\n",
              "      <th>2</th>\n",
              "      <td>5</td>\n",
              "      <td>6</td>\n",
              "      <td>7</td>\n",
              "      <td>8</td>\n",
              "      <td>9</td>\n",
              "      <td>10</td>\n",
              "      <td>11</td>\n",
              "      <td>12</td>\n",
              "    </tr>\n",
              "  </tbody>\n",
              "</table>\n",
              "</div>\n",
              "      <button class=\"colab-df-convert\" onclick=\"convertToInteractive('df-8caaf958-d93e-480e-b9b8-aff48dc72a49')\"\n",
              "              title=\"Convert this dataframe to an interactive table.\"\n",
              "              style=\"display:none;\">\n",
              "        \n",
              "  <svg xmlns=\"http://www.w3.org/2000/svg\" height=\"24px\"viewBox=\"0 0 24 24\"\n",
              "       width=\"24px\">\n",
              "    <path d=\"M0 0h24v24H0V0z\" fill=\"none\"/>\n",
              "    <path d=\"M18.56 5.44l.94 2.06.94-2.06 2.06-.94-2.06-.94-.94-2.06-.94 2.06-2.06.94zm-11 1L8.5 8.5l.94-2.06 2.06-.94-2.06-.94L8.5 2.5l-.94 2.06-2.06.94zm10 10l.94 2.06.94-2.06 2.06-.94-2.06-.94-.94-2.06-.94 2.06-2.06.94z\"/><path d=\"M17.41 7.96l-1.37-1.37c-.4-.4-.92-.59-1.43-.59-.52 0-1.04.2-1.43.59L10.3 9.45l-7.72 7.72c-.78.78-.78 2.05 0 2.83L4 21.41c.39.39.9.59 1.41.59.51 0 1.02-.2 1.41-.59l7.78-7.78 2.81-2.81c.8-.78.8-2.07 0-2.86zM5.41 20L4 18.59l7.72-7.72 1.47 1.35L5.41 20z\"/>\n",
              "  </svg>\n",
              "      </button>\n",
              "      \n",
              "  <style>\n",
              "    .colab-df-container {\n",
              "      display:flex;\n",
              "      flex-wrap:wrap;\n",
              "      gap: 12px;\n",
              "    }\n",
              "\n",
              "    .colab-df-convert {\n",
              "      background-color: #E8F0FE;\n",
              "      border: none;\n",
              "      border-radius: 50%;\n",
              "      cursor: pointer;\n",
              "      display: none;\n",
              "      fill: #1967D2;\n",
              "      height: 32px;\n",
              "      padding: 0 0 0 0;\n",
              "      width: 32px;\n",
              "    }\n",
              "\n",
              "    .colab-df-convert:hover {\n",
              "      background-color: #E2EBFA;\n",
              "      box-shadow: 0px 1px 2px rgba(60, 64, 67, 0.3), 0px 1px 3px 1px rgba(60, 64, 67, 0.15);\n",
              "      fill: #174EA6;\n",
              "    }\n",
              "\n",
              "    [theme=dark] .colab-df-convert {\n",
              "      background-color: #3B4455;\n",
              "      fill: #D2E3FC;\n",
              "    }\n",
              "\n",
              "    [theme=dark] .colab-df-convert:hover {\n",
              "      background-color: #434B5C;\n",
              "      box-shadow: 0px 1px 3px 1px rgba(0, 0, 0, 0.15);\n",
              "      filter: drop-shadow(0px 1px 2px rgba(0, 0, 0, 0.3));\n",
              "      fill: #FFFFFF;\n",
              "    }\n",
              "  </style>\n",
              "\n",
              "      <script>\n",
              "        const buttonEl =\n",
              "          document.querySelector('#df-8caaf958-d93e-480e-b9b8-aff48dc72a49 button.colab-df-convert');\n",
              "        buttonEl.style.display =\n",
              "          google.colab.kernel.accessAllowed ? 'block' : 'none';\n",
              "\n",
              "        async function convertToInteractive(key) {\n",
              "          const element = document.querySelector('#df-8caaf958-d93e-480e-b9b8-aff48dc72a49');\n",
              "          const dataTable =\n",
              "            await google.colab.kernel.invokeFunction('convertToInteractive',\n",
              "                                                     [key], {});\n",
              "          if (!dataTable) return;\n",
              "\n",
              "          const docLinkHtml = 'Like what you see? Visit the ' +\n",
              "            '<a target=\"_blank\" href=https://colab.research.google.com/notebooks/data_table.ipynb>data table notebook</a>'\n",
              "            + ' to learn more about interactive tables.';\n",
              "          element.innerHTML = '';\n",
              "          dataTable['output_type'] = 'display_data';\n",
              "          await google.colab.output.renderOutput(dataTable, element);\n",
              "          const docLink = document.createElement('div');\n",
              "          docLink.innerHTML = docLinkHtml;\n",
              "          element.appendChild(docLink);\n",
              "        }\n",
              "      </script>\n",
              "    </div>\n",
              "  </div>\n",
              "  "
            ]
          },
          "metadata": {},
          "execution_count": 25
        }
      ],
      "source": [
        "DCON = np.zeros([ElemN,DPE],dtype=int)\n",
        "DOF_list = list(range(1,DOFs+1))\n",
        "\n",
        "for j in range(ElemN):\n",
        "    for i in range(DPE):\n",
        "        DCON[j][i] = DOF_list [i+DPN*j]\n",
        "\n",
        "# Using pandas to create a table of DCON\n",
        "dCon = pd.DataFrame(\n",
        "    DCON,\n",
        "    index=list(range(1,ElemN+1)),\n",
        "    columns=['u1', 'w1', 'θ1','ϕ1','u2','w2','θ2','ϕ2'])\n",
        "dCon.head()"
      ]
    },
    {
      "cell_type": "code",
      "execution_count": null,
      "metadata": {
        "id": "p6BC4pAhRUUf"
      },
      "outputs": [],
      "source": [
        "# Boundary Condition:\n",
        "# Left BC:\n",
        "dof_left = []\n",
        "if BCL == 's':\n",
        "  dof_left = DCON[0][[0,1]]-1\n",
        "elif BCL == 'c':\n",
        "  dof_left = DCON[0][[0,1,2,3]]-1\n",
        "elif BCL == 'f':\n",
        "  dof_left = np.array([])\n",
        "#-------------------------------------------------------------------------------\n",
        "# Right BC:\n",
        "dof_right = []\n",
        "\n",
        "if BCR == 's':\n",
        "  dof_right = DCON[-1][[-3,-4]]-1\n",
        "elif BCR == 'c':\n",
        "  dof_right = DCON[-1][[-1,-2,-3,-4]]-1\n",
        "elif BCR == 'f':\n",
        "  dof_right = np.array([])\n",
        "#-------------------------------------------------------------------------------\n",
        "bc_sort = []\n",
        "bc_sort = np.concatenate((dof_right, dof_left))\n",
        "bc_sort = np.sort(bc_sort)[::-1]\n",
        "# bc_sort = sym.Matrix(bc_sort)"
      ]
    },
    {
      "cell_type": "code",
      "execution_count": null,
      "metadata": {
        "id": "REFLHqV4ybIa"
      },
      "outputs": [],
      "source": [
        "# Calculation Total Sttifness Matirix\n",
        "KT = sym.Matrix(np.zeros([DOFs,DOFs],dtype=float))\n",
        "for k in range(ElemN):\n",
        "    for i in range(DPE):\n",
        "        for j in range(DPE):\n",
        "            KT[DCON[k][i]-1,DCON[k][j]-1] += KE[i,j]\n",
        "#-------------------------------------------------------------------------------\n",
        "# Column Deleting\n",
        "KT = np.delete(KT, bc_sort, axis=1)\n",
        "# Row Deleting\n",
        "KT = np.delete(KT, bc_sort, axis=0)\n",
        "KT = sym.Matrix(KT)\n",
        "# KT"
      ]
    },
    {
      "cell_type": "code",
      "source": [
        "KT"
      ],
      "metadata": {
        "id": "Af1bpeyHrd5u",
        "outputId": "0bdaa617-c103-4451-8668-88c62f0ac9df",
        "colab": {
          "base_uri": "https://localhost:8080/",
          "height": 200
        }
      },
      "execution_count": null,
      "outputs": [
        {
          "output_type": "execute_result",
          "data": {
            "text/plain": [
              "Matrix([\n",
              "[ 68376.0683760676,  42735.0427350425,      0,    -1025.64102564103,    -17094.0170940175, -42735.0427350427,               0.0,               0.0],\n",
              "[ 42735.0427350425,  170948.704273504,      0,     5128.20512820513,    -42735.0427350429,  85461.5521367522,               0.0,               0.0],\n",
              "[                0,                 0, 1280.0,                    0,                    0,                 0,                 0,                 0],\n",
              "[-1025.64102564103,  5128.20512820513,      0,     492.307692307691, 3.63797880709171e-12,                 0,  1025.64102564102, -5128.20512820513],\n",
              "[-17094.0170940175, -42735.0427350429,      0, 3.63797880709171e-12,     136752.136752136,  85470.0854700853, -17094.0170940175, -42735.0427350427],\n",
              "[-42735.0427350427,  85461.5521367522,      0,                    0,     85470.0854700853,  341897.408547009, -42735.0427350429,  85461.5521367522],\n",
              "[              0.0,               0.0,      0,     1025.64102564102,    -17094.0170940175, -42735.0427350429,  68376.0683760685,  42735.0427350427],\n",
              "[              0.0,               0.0,      0,    -5128.20512820513,    -42735.0427350427,  85461.5521367522,  42735.0427350427,  170948.704273504]])"
            ],
            "text/latex": "$\\displaystyle \\left[\\begin{matrix}68376.0683760676 & 42735.0427350425 & 0 & -1025.64102564103 & -17094.0170940175 & -42735.0427350427 & 0.0 & 0.0\\\\42735.0427350425 & 170948.704273504 & 0 & 5128.20512820513 & -42735.0427350429 & 85461.5521367522 & 0.0 & 0.0\\\\0 & 0 & 1280.0 & 0 & 0 & 0 & 0 & 0\\\\-1025.64102564103 & 5128.20512820513 & 0 & 492.307692307691 & 3.63797880709171 \\cdot 10^{-12} & 0 & 1025.64102564102 & -5128.20512820513\\\\-17094.0170940175 & -42735.0427350429 & 0 & 3.63797880709171 \\cdot 10^{-12} & 136752.136752136 & 85470.0854700853 & -17094.0170940175 & -42735.0427350427\\\\-42735.0427350427 & 85461.5521367522 & 0 & 0 & 85470.0854700853 & 341897.408547009 & -42735.0427350429 & 85461.5521367522\\\\0.0 & 0.0 & 0 & 1025.64102564102 & -17094.0170940175 & -42735.0427350429 & 68376.0683760685 & 42735.0427350427\\\\0.0 & 0.0 & 0 & -5128.20512820513 & -42735.0427350427 & 85461.5521367522 & 42735.0427350427 & 170948.704273504\\end{matrix}\\right]$"
          },
          "metadata": {},
          "execution_count": 36
        }
      ]
    },
    {
      "cell_type": "code",
      "execution_count": null,
      "metadata": {
        "id": "Qg-Z6fil2EMG"
      },
      "outputs": [],
      "source": [
        "# Calculation Total Force Vector\n",
        "if Load_dist == 'Uni':\n",
        "  FT = sym.Matrix(np.zeros([DOFs,1],dtype=float))\n",
        "  for k in range(ElemN):\n",
        "    for i in range(DPE):\n",
        "        FT[DCON[k][i]-1] += FE[i]\n",
        "elif Load_dist == 'Con':\n",
        "  FT = sym.Matrix(np.zeros([DOFs,1],dtype=float))\n",
        "  for k in range(ElemN):\n",
        "    for i in range(DPE):\n",
        "      FT[DCON[k][i]-1] += FE[i,k]\n",
        "\n",
        "FT = np.delete(FT, bc_sort)\n",
        "FT = sym.Matrix(FT)\n",
        "# FT"
      ]
    },
    {
      "cell_type": "markdown",
      "metadata": {
        "id": "c2pUSUnVGrhh"
      },
      "source": [
        "###$F = K. 𝚫=>𝚫 = K^{-1}.F$\n"
      ]
    },
    {
      "cell_type": "code",
      "execution_count": null,
      "metadata": {
        "id": "V1x22jAScy4g"
      },
      "outputs": [],
      "source": [
        "# Nodal Displacement:\n",
        "NodalDip = KT.inv()@FT\n",
        "# NodalDip"
      ]
    },
    {
      "cell_type": "code",
      "execution_count": null,
      "metadata": {
        "id": "82kpass29Wxm"
      },
      "outputs": [],
      "source": [
        "if BCL == 's':\n",
        "  NodalDip1 = np.delete(NodalDip, [0,1,-1,-2])\n",
        "  Wmax_Nodes = [0]\n",
        "  for i in range(NodeN-2):\n",
        "      Wmax_Nodes.append(NodalDip1[1+4*i])\n",
        "  Wmax_Nodes.append(0)\n",
        "elif BCL == 'c':\n",
        "  Wmax_Nodes = [0]\n",
        "  for i in range(NodeN-2):\n",
        "      Wmax_Nodes.append(NodalDip[1+4*i])\n",
        "  Wmax_Nodes.append(0)"
      ]
    },
    {
      "cell_type": "code",
      "execution_count": null,
      "metadata": {
        "colab": {
          "base_uri": "https://localhost:8080/",
          "height": 37
        },
        "id": "de9R1TR_ID-_",
        "outputId": "6c2e8191-0c0d-4ea6-cddd-271023ec7954"
      },
      "outputs": [
        {
          "output_type": "execute_result",
          "data": {
            "text/plain": [
              "2441.52812518456"
            ],
            "text/latex": "$\\displaystyle 2441.52812518456$"
          },
          "metadata": {},
          "execution_count": 31
        }
      ],
      "source": [
        "np.max(np.abs(Wmax_Nodes))"
      ]
    },
    {
      "cell_type": "code",
      "execution_count": null,
      "metadata": {
        "colab": {
          "base_uri": "https://localhost:8080/",
          "height": 295
        },
        "id": "L7HXYrVO4axk",
        "outputId": "def8c5ca-cb0c-4124-bb49-78203056bb8a"
      },
      "outputs": [
        {
          "output_type": "display_data",
          "data": {
            "text/plain": [
              "<Figure size 432x288 with 1 Axes>"
            ],
            "image/png": "[encoded data removed]"
          },
          "metadata": {
            "needs_background": "light"
          }
        }
      ],
      "source": [
        "Y = Wmax_Nodes\n",
        "X =list(range(0,LB+int(Le),int(Le)))\n",
        "plt.scatter(X, Y, color='darkgreen')\n",
        "plt.plot(X, Y, color='darkblue', linewidth=3)\n",
        "plt.title('Beam Deflection')\n",
        "plt.ylabel('Disp(mm)')\n",
        "plt.xlabel('Beam Length(mm)')\n",
        "plt.show()"
      ]
    }
  ],
  "metadata": {
    "colab": {
      "collapsed_sections": [],
      "name": "Timoshenko Beam Theory Model.ipynb",
      "provenance": [],
      "include_colab_link": true
    },
    "kernelspec": {
      "display_name": "Python 3",
      "name": "python3"
    },
    "language_info": {
      "name": "python"
    }
  },
  "nbformat": 4,
  "nbformat_minor": 0
}